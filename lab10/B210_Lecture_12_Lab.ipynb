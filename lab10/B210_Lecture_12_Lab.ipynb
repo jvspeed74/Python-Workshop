{
 "cells": [
  {
   "cell_type": "markdown",
   "id": "f49d7fe2",
   "metadata": {},
   "source": [
    "#### For each lesson, there will be a corresponding lab to complete during the Thursday portion of class. To complete the lab, simply follow the cells step-by-step, adding your code where appropriate. Be sure to run your code to ensure correctness and completeness without errors. \n",
    "\n",
    "# Lab 10\n",
    "In this lab, we'll be working with both tuples and lists, as well as understanding how to utilize sets.\n",
    "\n",
    "## Prompt\n",
    "Use your knowledge of Python to address each of the following prompts."
   ]
  },
  {
   "cell_type": "markdown",
   "id": "a10a0a56",
   "metadata": {},
   "source": [
    "#### 1. By now, we have learned many ways to remove values from lists. Recall the methods from last week. This question has four parts:\n",
    "\n",
    " - First, create a list named *movies*, that contains the following values: \"Star Wars\", \"Indiana Jones\", \"Jurassic Park\", \"Ghostbusters\"\n",
    "\n",
    " - Second, remove the item at index 2 and return it (this can all be accomplished at once)\n",
    "\n",
    " - Third, remove the item \"Indiana Jones\" by name (think about the differences between del and remove() )\n",
    " \n",
    " - Fourth, delete the item at index 0"
   ]
  },
  {
   "cell_type": "code",
   "id": "84069cba",
   "metadata": {
    "ExecuteTime": {
     "end_time": "2024-04-05T01:01:23.876438Z",
     "start_time": "2024-04-05T01:01:23.871968Z"
    }
   },
   "source": [
    "#define movies here\n",
    "movies: list = ['Star Wars', 'Indiana Jones', 'Jurassic Park', 'Ghostbusters']"
   ],
   "outputs": [],
   "execution_count": 1
  },
  {
   "cell_type": "code",
   "id": "192427e0",
   "metadata": {
    "ExecuteTime": {
     "end_time": "2024-04-05T01:01:31.276281Z",
     "start_time": "2024-04-05T01:01:31.272804Z"
    }
   },
   "source": [
    "#part two\n",
    "print(movies.pop(2))"
   ],
   "outputs": [
    {
     "name": "stdout",
     "output_type": "stream",
     "text": [
      "Jurassic Park\n"
     ]
    }
   ],
   "execution_count": 2
  },
  {
   "cell_type": "code",
   "id": "a80d7e9f",
   "metadata": {
    "ExecuteTime": {
     "end_time": "2024-04-05T01:01:36.795742Z",
     "start_time": "2024-04-05T01:01:36.791768Z"
    }
   },
   "source": [
    "#part three\n",
    "movies.remove('Indiana Jones')\n",
    "print(movies)"
   ],
   "outputs": [
    {
     "name": "stdout",
     "output_type": "stream",
     "text": [
      "['Star Wars', 'Ghostbusters']\n"
     ]
    }
   ],
   "execution_count": 3
  },
  {
   "cell_type": "code",
   "id": "ec136e65",
   "metadata": {
    "ExecuteTime": {
     "end_time": "2024-04-05T01:01:45.947298Z",
     "start_time": "2024-04-05T01:01:45.933392Z"
    }
   },
   "source": [
    "#part four\n",
    "del movies[0]\n",
    "print(movies)"
   ],
   "outputs": [
    {
     "name": "stdout",
     "output_type": "stream",
     "text": [
      "['Ghostbusters']\n"
     ]
    }
   ],
   "execution_count": 4
  },
  {
   "cell_type": "markdown",
   "id": "312d0483",
   "metadata": {},
   "source": [
    "#### 2. What are the main differences between lists and tuples? "
   ]
  },
  {
   "cell_type": "markdown",
   "id": "7e4559ff",
   "metadata": {},
   "source": [
    "Lists are mutable and tuples are not. Tuples are characterized by parenthesis while lists use square brackets."
   ]
  },
  {
   "cell_type": "markdown",
   "id": "f71a2e53",
   "metadata": {},
   "source": [
    "#### 3. What is the predicted output of (2.0, 3.9, 4.7) >= (2.0, 3.1, 2.1) and why?"
   ]
  },
  {
   "cell_type": "markdown",
   "id": "7265786e",
   "metadata": {},
   "source": [
    "True, values are compared one by one with their \"index doppelganger.\" Both 2.0's are compared against each other. Then 3.9 is compared with 3.1. This is how data structures are compared in Python."
   ]
  },
  {
   "cell_type": "markdown",
   "id": "5f357d00",
   "metadata": {},
   "source": [
    "#### 4. Multiple Assignment - Given the list *dogs*, assign \"pug\" to breed_1, \"bulldog\" to breed_2, and \"chihuahua\" to breed_3 using one line of code."
   ]
  },
  {
   "cell_type": "code",
   "id": "ab0378b7",
   "metadata": {
    "ExecuteTime": {
     "end_time": "2024-04-05T01:01:50.501181Z",
     "start_time": "2024-04-05T01:01:50.497705Z"
    }
   },
   "source": [
    "#list dogs\n",
    "dogs = [\"pug\", \"bulldog\", \"chihuahua\"]"
   ],
   "outputs": [],
   "execution_count": 5
  },
  {
   "cell_type": "code",
   "id": "0f4ac0f5",
   "metadata": {
    "ExecuteTime": {
     "end_time": "2024-04-05T01:02:22.929899Z",
     "start_time": "2024-04-05T01:02:22.926919Z"
    }
   },
   "source": [
    "#write your code here\n",
    "breed_1, breed_2, breed_3 = dogs[0], dogs[1], dogs[2]\n",
    "print(breed_1, breed_2, breed_3)"
   ],
   "outputs": [
    {
     "name": "stdout",
     "output_type": "stream",
     "text": [
      "pug bulldog chihuahua\n"
     ]
    }
   ],
   "execution_count": 6
  },
  {
   "cell_type": "markdown",
   "id": "20dfbb97",
   "metadata": {},
   "source": [
    "#### 5. Is {(\"trees\", \"flowers\", \"plants\"), [\"fruits\", \"bananas\", \"apples\"], \"growth\", 13000} a valid set? Why or why not?"
   ]
  },
  {
   "cell_type": "markdown",
   "id": "049bd2a1",
   "metadata": {},
   "source": "No, sets cannot contain mutable variables. This includes lists, sets, and dictionaries. As a result, the list of fruits invalidates the set."
  },
  {
   "cell_type": "markdown",
   "id": "e5cdf7ff",
   "metadata": {},
   "source": [
    "#### 6. Is {True, (0,1), False} a valid set? Why or why not?"
   ]
  },
  {
   "cell_type": "markdown",
   "id": "3b895e5c",
   "metadata": {},
   "source": "Yes, all items in the set are immutable."
  },
  {
   "cell_type": "markdown",
   "id": "2c305779",
   "metadata": {},
   "source": [
    "#### The next remaining problems will use the sets *hockey_positions* and *basketball_positions* below.\n",
    "\n",
    "#### **Each problem is in two parts, be sure to address both.**"
   ]
  },
  {
   "cell_type": "code",
   "id": "c248139f",
   "metadata": {
    "ExecuteTime": {
     "end_time": "2024-04-05T01:05:43.647390Z",
     "start_time": "2024-04-05T01:05:43.643417Z"
    }
   },
   "source": [
    "#sets defined here\n",
    "hockey_positions = {\"goaltender\", \"defensemen\", \"center\", \"wings\"}\n",
    "basketball_positions = {\"guards\", \"center\", \"forwards\"}"
   ],
   "outputs": [],
   "execution_count": 7
  },
  {
   "cell_type": "markdown",
   "id": "19066d57",
   "metadata": {},
   "source": [
    "#"
   ]
  },
  {
   "cell_type": "markdown",
   "id": "c4d65b23",
   "metadata": {},
   "source": [
    "#### 7. Using the appropriate **operation**, determine what positions are in *hockey_positions* or in *basketball_positions* or in both.\n",
    "\n",
    "#### Then, in the second box, use the appropriate **method**, return the same result."
   ]
  },
  {
   "cell_type": "code",
   "id": "703d4f94",
   "metadata": {
    "ExecuteTime": {
     "end_time": "2024-04-05T01:10:25.459396Z",
     "start_time": "2024-04-05T01:10:25.455423Z"
    }
   },
   "source": [
    "#operation\n",
    "hockey_positions | basketball_positions"
   ],
   "outputs": [
    {
     "data": {
      "text/plain": [
       "{'center', 'defensemen', 'forwards', 'goaltender', 'guards', 'wings'}"
      ]
     },
     "execution_count": 11,
     "metadata": {},
     "output_type": "execute_result"
    }
   ],
   "execution_count": 11
  },
  {
   "cell_type": "code",
   "id": "50719ab7",
   "metadata": {
    "ExecuteTime": {
     "end_time": "2024-04-05T01:08:53.524905Z",
     "start_time": "2024-04-05T01:08:53.521428Z"
    }
   },
   "source": [
    "#method\n",
    "hockey_positions.union(basketball_positions)"
   ],
   "outputs": [
    {
     "data": {
      "text/plain": [
       "{'center', 'defensemen', 'forwards', 'goaltender', 'guards', 'wings'}"
      ]
     },
     "execution_count": 9,
     "metadata": {},
     "output_type": "execute_result"
    }
   ],
   "execution_count": 9
  },
  {
   "cell_type": "markdown",
   "id": "253645ae",
   "metadata": {},
   "source": [
    "#### 8. Using the appropriate **operation**, determine what positions are in *hockey_positions* and in *basketball_positions*.\n",
    "\n",
    "#### Then, in the second box, use the appropriate **method**, return the same result."
   ]
  },
  {
   "cell_type": "code",
   "id": "409eadd5",
   "metadata": {
    "ExecuteTime": {
     "end_time": "2024-04-05T01:11:04.612411Z",
     "start_time": "2024-04-05T01:11:04.607444Z"
    }
   },
   "source": [
    "#operation\n",
    "hockey_positions & basketball_positions"
   ],
   "outputs": [
    {
     "data": {
      "text/plain": [
       "{'center'}"
      ]
     },
     "execution_count": 12,
     "metadata": {},
     "output_type": "execute_result"
    }
   ],
   "execution_count": 12
  },
  {
   "cell_type": "code",
   "id": "54129fd9",
   "metadata": {
    "ExecuteTime": {
     "end_time": "2024-04-05T01:11:21.224224Z",
     "start_time": "2024-04-05T01:11:21.221244Z"
    }
   },
   "source": [
    "#method\n",
    "hockey_positions.intersection(basketball_positions)"
   ],
   "outputs": [
    {
     "data": {
      "text/plain": [
       "{'center'}"
      ]
     },
     "execution_count": 13,
     "metadata": {},
     "output_type": "execute_result"
    }
   ],
   "execution_count": 13
  },
  {
   "cell_type": "markdown",
   "id": "fad6243d",
   "metadata": {},
   "source": [
    "#### 9. Using the appropriate **operation**, determine what positions are in *hockey_positions* or in *basketball_positions* but NOT in both.\n",
    "\n",
    "#### Then, in the second box, use the appropriate **method**, return the same result."
   ]
  },
  {
   "cell_type": "code",
   "id": "7fb08a23",
   "metadata": {
    "ExecuteTime": {
     "end_time": "2024-04-05T01:11:49.191383Z",
     "start_time": "2024-04-05T01:11:49.186913Z"
    }
   },
   "source": [
    "#operation\n",
    "hockey_positions ^ basketball_positions"
   ],
   "outputs": [
    {
     "data": {
      "text/plain": [
       "{'defensemen', 'forwards', 'goaltender', 'guards', 'wings'}"
      ]
     },
     "execution_count": 15,
     "metadata": {},
     "output_type": "execute_result"
    }
   ],
   "execution_count": 15
  },
  {
   "cell_type": "code",
   "id": "960eee67",
   "metadata": {
    "ExecuteTime": {
     "end_time": "2024-04-05T01:13:43.568554Z",
     "start_time": "2024-04-05T01:13:43.564581Z"
    }
   },
   "source": [
    "#method\n",
    "hockey_positions.symmetric_difference(basketball_positions)"
   ],
   "outputs": [
    {
     "data": {
      "text/plain": [
       "{'defensemen', 'forwards', 'goaltender', 'guards', 'wings'}"
      ]
     },
     "execution_count": 17,
     "metadata": {},
     "output_type": "execute_result"
    }
   ],
   "execution_count": 17
  },
  {
   "cell_type": "markdown",
   "id": "27575cf0",
   "metadata": {},
   "source": [
    "#### 10. Using the appropriate **operation**, determine what positions are in *hockey_positions* but NOT in *basketball_positions*.\n",
    "\n",
    "#### Then, in the second box, use the appropriate **method**, return the same result."
   ]
  },
  {
   "cell_type": "code",
   "id": "e8f7ea37",
   "metadata": {
    "ExecuteTime": {
     "end_time": "2024-04-05T01:14:02.057911Z",
     "start_time": "2024-04-05T01:14:02.052944Z"
    }
   },
   "source": [
    "#operation\n",
    "hockey_positions - basketball_positions"
   ],
   "outputs": [
    {
     "data": {
      "text/plain": [
       "{'defensemen', 'goaltender', 'wings'}"
      ]
     },
     "execution_count": 18,
     "metadata": {},
     "output_type": "execute_result"
    }
   ],
   "execution_count": 18
  },
  {
   "cell_type": "code",
   "id": "17a58c81",
   "metadata": {
    "ExecuteTime": {
     "end_time": "2024-04-05T01:14:25.571468Z",
     "start_time": "2024-04-05T01:14:25.566998Z"
    }
   },
   "source": [
    "#method\n",
    "hockey_positions.difference(basketball_positions)"
   ],
   "outputs": [
    {
     "data": {
      "text/plain": [
       "{'defensemen', 'goaltender', 'wings'}"
      ]
     },
     "execution_count": 19,
     "metadata": {},
     "output_type": "execute_result"
    }
   ],
   "execution_count": 19
  },
  {
   "metadata": {},
   "cell_type": "code",
   "outputs": [],
   "execution_count": null,
   "source": "",
   "id": "9292497dde50312"
  }
 ],
 "metadata": {
  "kernelspec": {
   "display_name": "Python 3 (ipykernel)",
   "language": "python",
   "name": "python3"
  },
  "language_info": {
   "codemirror_mode": {
    "name": "ipython",
    "version": 3
   },
   "file_extension": ".py",
   "mimetype": "text/x-python",
   "name": "python",
   "nbconvert_exporter": "python",
   "pygments_lexer": "ipython3",
   "version": "3.11.6"
  }
 },
 "nbformat": 4,
 "nbformat_minor": 5
}
