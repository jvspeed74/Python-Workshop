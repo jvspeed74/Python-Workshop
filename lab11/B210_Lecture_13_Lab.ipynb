{
 "cells": [
  {
   "cell_type": "markdown",
   "id": "f49d7fe2",
   "metadata": {},
   "source": [
    "#### For each lesson, there will be a corresponding lab to complete during the Thursday portion of class. To complete the lab, simply follow the cells step-by-step, adding your code where appropriate. Be sure to run your code to ensure correctness and completeness without errors. \n",
    "\n",
    "# Lecture 13 Lab\n",
    "In this lab, we'll review dictionaries and their methods.\n",
    "\n",
    "## Prompt\n",
    "Use your knowledge of Python variables and functions to address each of the following prompts."
   ]
  },
  {
   "cell_type": "markdown",
   "id": "8e7dc46a",
   "metadata": {},
   "source": [
    "#### 1. By now, we have learned various data types in Python...being able to identify the types is critical to understanding how each can be applied.\n",
    "\n",
    "#### For each of the following, indicate the type of data structure (set, dictionary, tuple, list), and *explain* how you know.\n",
    "\n",
    "(Note: because type() said so is not a valid response. Think about the characteristics presented in the slides.) \n",
    "\n",
    "#### a. {\"April 9\", \"April 10\", \"April 11th\"}\n",
    "\n",
    "\n",
    "      "
   ]
  },
  {
   "cell_type": "markdown",
   "id": "18211d61",
   "metadata": {},
   "source": [
    "This is a set. It's defined with curly brackets but without a key:value format."
   ]
  },
  {
   "cell_type": "markdown",
   "id": "968a07d8",
   "metadata": {},
   "source": [
    "#### b.  [(\"fresh\", \"frozen\"), (\"chicken\", \"turkey\"), {\"store\": \"Kroger\"}]"
   ]
  },
  {
   "cell_type": "markdown",
   "id": "1c981636",
   "metadata": {},
   "source": [
    "This is a list. It is defined with square brackets and items are separated by commas."
   ]
  },
  {
   "cell_type": "markdown",
   "id": "92317f44",
   "metadata": {},
   "source": [
    "#### c. {\"yesterday\": \"April 9\", \"today\": \"April 10\", \"tomorrow\": \"April 11th\"}"
   ]
  },
  {
   "cell_type": "markdown",
   "id": "3c3609d0",
   "metadata": {},
   "source": [
    "This is a dictionary. It is defined with curly brackets and a key:value format."
   ]
  },
  {
   "cell_type": "markdown",
   "id": "1f868b45",
   "metadata": {},
   "source": [
    "#### d. (\"June\", \"July\", \"August\")"
   ]
  },
  {
   "cell_type": "markdown",
   "id": "0d0cefe1",
   "metadata": {},
   "source": [
    "This is a tuple. It is defined with parenthesis, each item is separated by a comma, and each item is immutable."
   ]
  },
  {
   "cell_type": "markdown",
   "id": "df47582a",
   "metadata": {},
   "source": [
    "#### 2. For each of the following, indicate if it would be a valid dictionary key. **Explain** why or why not.\n",
    "\n",
    "#### a. \"key\" "
   ]
  },
  {
   "cell_type": "markdown",
   "id": "4e60d3a4",
   "metadata": {},
   "source": [
    "Yes, \"key\" is immutable, with is a requirement of dictionary keys."
   ]
  },
  {
   "cell_type": "markdown",
   "id": "3ef0a6a2",
   "metadata": {},
   "source": [
    "#### b. [\"This\", \"Is\", \"A\", \"Key\"]"
   ]
  },
  {
   "cell_type": "markdown",
   "id": "77fc5984",
   "metadata": {},
   "source": [
    "No, a list is mutable, so it fails the requirement."
   ]
  },
  {
   "cell_type": "markdown",
   "id": "c85aa04c",
   "metadata": {},
   "source": [
    "#### c. 123"
   ]
  },
  {
   "cell_type": "markdown",
   "id": "076d6289",
   "metadata": {},
   "source": [
    "Yes, a number is immutable, so it passes the requirement."
   ]
  },
  {
   "cell_type": "markdown",
   "id": "ea76340a",
   "metadata": {},
   "source": [
    "#### d. (\"This\", \"Is\", \"a\", \"Key\")"
   ]
  },
  {
   "cell_type": "markdown",
   "id": "b0dbb330",
   "metadata": {},
   "source": [
    "Yes, a tuple is immutable, so it passes the requirement."
   ]
  },
  {
   "cell_type": "markdown",
   "id": "d17edffe",
   "metadata": {},
   "source": [
    "#### 3. Define a dictionary, named *test_grades*, with key-value pairs based on the following information:\n",
    "\n",
    " - John scored a 96\n",
    " - Gina scored an 86\n",
    " - Marcus scored an 85\n",
    " - Ibrahim scored a 73\n",
    " - Cary scored a 73"
   ]
  },
  {
   "cell_type": "code",
   "execution_count": 5,
   "id": "e862ef7a",
   "metadata": {
    "ExecuteTime": {
     "end_time": "2024-04-11T17:07:29.676405Z",
     "start_time": "2024-04-11T17:07:29.671814Z"
    }
   },
   "outputs": [],
   "source": [
    "test_grades: dict = {\n",
    "    \"John\": 96,\n",
    "    \"Gina\": 86,\n",
    "    \"Marcus\": 85,\n",
    "    \"Ibrahim\": 73,\n",
    "    \"Cary\": 73\n",
    "}"
   ]
  },
  {
   "cell_type": "markdown",
   "id": "681a29e4",
   "metadata": {},
   "source": [
    "#### 4. Suppose a student, Antonio, took the test late and scored a 99. Add the appropriate key-value pair to the dictionary."
   ]
  },
  {
   "cell_type": "code",
   "execution_count": 7,
   "id": "0071cade",
   "metadata": {
    "ExecuteTime": {
     "end_time": "2024-04-11T17:08:18.008191Z",
     "start_time": "2024-04-11T17:08:17.999541Z"
    }
   },
   "outputs": [
    {
     "name": "stdout",
     "output_type": "stream",
     "text": [
      "{'John': 96, 'Gina': 86, 'Marcus': 85, 'Ibrahim': 73, 'Cary': 73, 'Antonio': 99}\n"
     ]
    }
   ],
   "source": [
    "test_grades[\"Antonio\"] = 99\n",
    "print(test_grades)"
   ]
  },
  {
   "cell_type": "markdown",
   "id": "b67642a0",
   "metadata": {},
   "source": [
    "#### 5. A second class' scores can be found in the dictionary below. Add these scores to the *test_grades* dictionary using an appropriate dictionary method."
   ]
  },
  {
   "cell_type": "code",
   "execution_count": 8,
   "id": "48d2f5d0",
   "metadata": {
    "ExecuteTime": {
     "end_time": "2024-04-11T17:16:59.807168Z",
     "start_time": "2024-04-11T17:16:59.799743Z"
    }
   },
   "outputs": [],
   "source": [
    "#new scores defined here\n",
    "new_scores = {\"Frank\": 57, \"Kathryn\": 78, \"James\": 60, \"Patricia\": 81}"
   ]
  },
  {
   "cell_type": "code",
   "execution_count": 9,
   "id": "be7d94c3",
   "metadata": {
    "ExecuteTime": {
     "end_time": "2024-04-11T17:19:40.094581Z",
     "start_time": "2024-04-11T17:19:40.088723Z"
    }
   },
   "outputs": [
    {
     "name": "stdout",
     "output_type": "stream",
     "text": [
      "{'John': 96, 'Gina': 86, 'Marcus': 85, 'Ibrahim': 73, 'Cary': 73, 'Antonio': 99, 'Frank': 57, 'Kathryn': 78, 'James': 60, 'Patricia': 81}\n"
     ]
    }
   ],
   "source": [
    "test_grades.update(new_scores)\n",
    "print(test_grades)"
   ]
  },
  {
   "cell_type": "markdown",
   "id": "9d7e4e7b",
   "metadata": {},
   "source": [
    "#### 6. The professor cannot remember if one student, Skipper, was added to the gradebook. \n",
    "\n",
    "#### Using an appropriate method, return the value associated with the \"Skipper\" or if it doesn't exist, add Skipper with the default value 0."
   ]
  },
  {
   "cell_type": "code",
   "execution_count": 15,
   "id": "50be1c40",
   "metadata": {
    "ExecuteTime": {
     "end_time": "2024-04-11T17:24:37.785609Z",
     "start_time": "2024-04-11T17:24:37.782209Z"
    }
   },
   "outputs": [
    {
     "name": "stdout",
     "output_type": "stream",
     "text": [
      "{'John': 96, 'Gina': 86, 'Marcus': 85, 'Ibrahim': 73, 'Cary': 73, 'Antonio': 99, 'Frank': 57, 'Kathryn': 78, 'James': 60, 'Patricia': 81, 'Skipper': 0}\n"
     ]
    }
   ],
   "source": [
    "test_grades.setdefault(\"Skipper\", 0)\n",
    "print(test_grades)"
   ]
  },
  {
   "cell_type": "markdown",
   "id": "d6dfc009",
   "metadata": {},
   "source": [
    "#### 7. Following all of these changes, use the appropriate method to return all items in the dictionary as a list of tuples."
   ]
  },
  {
   "cell_type": "code",
   "execution_count": 16,
   "id": "c4610331",
   "metadata": {
    "ExecuteTime": {
     "end_time": "2024-04-11T17:26:42.929910Z",
     "start_time": "2024-04-11T17:26:42.923178Z"
    }
   },
   "outputs": [
    {
     "data": {
      "text/plain": "dict_items([('John', 96), ('Gina', 86), ('Marcus', 85), ('Ibrahim', 73), ('Cary', 73), ('Antonio', 99), ('Frank', 57), ('Kathryn', 78), ('James', 60), ('Patricia', 81), ('Skipper', 0)])"
     },
     "execution_count": 16,
     "metadata": {},
     "output_type": "execute_result"
    }
   ],
   "source": [
    "test_grades.items()"
   ]
  },
  {
   "cell_type": "markdown",
   "id": "d7f1a135",
   "metadata": {},
   "source": [
    "#### 8. The instructor wants to calculate the class average. \n",
    "\n",
    "#### Use an appropriate method to return all the scores from the dictionary as a list.\n",
    "\n",
    "#### Second, calculate the average. Recall the built in functions len() and sum()."
   ]
  },
  {
   "cell_type": "code",
   "execution_count": 18,
   "id": "a5a6c2e3",
   "metadata": {
    "ExecuteTime": {
     "end_time": "2024-04-11T17:28:47.973926Z",
     "start_time": "2024-04-11T17:28:47.968128Z"
    }
   },
   "outputs": [
    {
     "name": "stdout",
     "output_type": "stream",
     "text": [
      "71.63636363636364\n"
     ]
    }
   ],
   "source": [
    "print(sum(test_grades.values()) / len(test_grades))"
   ]
  },
  {
   "cell_type": "markdown",
   "id": "647b6b2a",
   "metadata": {},
   "source": [
    "#### 9. Martha is the mother of 3 students -- James, Cary, and Skipper. \n",
    "\n",
    "#### Using the list below and a for loop, print the grades for each of Martha's children. (Recall how to access values from a dictionary)"
   ]
  },
  {
   "cell_type": "code",
   "execution_count": 19,
   "id": "3b9c67c7",
   "metadata": {
    "ExecuteTime": {
     "end_time": "2024-04-11T17:29:26.042415Z",
     "start_time": "2024-04-11T17:29:26.037032Z"
    }
   },
   "outputs": [],
   "source": [
    "#list below\n",
    "marthas_children = [\"James\", \"Cary\", \"Skipper\"]"
   ]
  },
  {
   "cell_type": "code",
   "execution_count": 20,
   "id": "9f782ba6",
   "metadata": {
    "ExecuteTime": {
     "end_time": "2024-04-11T17:30:31.869360Z",
     "start_time": "2024-04-11T17:30:31.851063Z"
    }
   },
   "outputs": [
    {
     "name": "stdout",
     "output_type": "stream",
     "text": [
      "James's grade is: 60\n",
      "Cary's grade is: 73\n",
      "Skipper's grade is: 0\n"
     ]
    }
   ],
   "source": [
    "for child in marthas_children:\n",
    "    print(f\"{child}'s grade is: {test_grades[child]}\")"
   ]
  },
  {
   "cell_type": "markdown",
   "id": "325b9d9f",
   "metadata": {},
   "source": [
    "#### 10. \n",
    "\n",
    "A common way to apply a for loop through a dictionary is to use the line below. \n",
    "\n",
    "         - for key in test_grades.keys():\n",
    "\n",
    "In each iteration, the variable *key* is equal to the key of the dictionary, so accessing the corresponding value is as simple as: \n",
    "\n",
    "         - test_grades[key]\n",
    "\n",
    "**And the entire key-value pair that matches the original dictionary is**:\n",
    "\n",
    "         - {key:test_grades[key]}\n",
    "\n",
    "#### With this information, loop through the *test_grades* dictionary determine if each pair is greater than or equal to passing (70). \n",
    "\n",
    " - If it is greater or equal, add it *sorted_grades*, in the dictionary of the \"Passing\" key, using the update() method.\n",
    "\n",
    " - If it is less than, add it *sorted_grades*, in the dictionary of the \"Failing\" key, using the update() method.\n"
   ]
  },
  {
   "cell_type": "code",
   "execution_count": 25,
   "id": "a6542101",
   "metadata": {
    "ExecuteTime": {
     "end_time": "2024-04-11T17:39:31.522099Z",
     "start_time": "2024-04-11T17:39:31.515775Z"
    }
   },
   "outputs": [],
   "source": [
    "#given dictionary\n",
    "sorted_grades = {\"Passing\": {}, \"Failing\": {}}"
   ]
  },
  {
   "cell_type": "code",
   "outputs": [
    {
     "name": "stdout",
     "output_type": "stream",
     "text": [
      "{'Passing': {'John': 96, 'Gina': 86, 'Marcus': 85, 'Ibrahim': 73, 'Cary': 73, 'Antonio': 99, 'Kathryn': 78, 'Patricia': 81}, 'Failing': {'Frank': 57, 'James': 60, 'Skipper': 0}}\n"
     ]
    }
   ],
   "source": [
    "for child, grade in test_grades.items():\n",
    "    if grade >= 70:\n",
    "        sorted_grades[\"Passing\"].update({child: grade})\n",
    "    \n",
    "    else:\n",
    "        sorted_grades[\"Failing\"].update({child: grade})\n",
    "\n",
    "print(sorted_grades)"
   ],
   "metadata": {
    "collapsed": false,
    "ExecuteTime": {
     "end_time": "2024-04-11T17:39:32.109365Z",
     "start_time": "2024-04-11T17:39:32.104857Z"
    }
   },
   "id": "386bef0706f83e2b",
   "execution_count": 26
  },
  {
   "cell_type": "code",
   "outputs": [],
   "source": [],
   "metadata": {
    "collapsed": false
   },
   "id": "c2ce322897b1f2a"
  }
 ],
 "metadata": {
  "kernelspec": {
   "display_name": "Python 3 (ipykernel)",
   "language": "python",
   "name": "python3"
  },
  "language_info": {
   "codemirror_mode": {
    "name": "ipython",
    "version": 3
   },
   "file_extension": ".py",
   "mimetype": "text/x-python",
   "name": "python",
   "nbconvert_exporter": "python",
   "pygments_lexer": "ipython3",
   "version": "3.9.17"
  }
 },
 "nbformat": 4,
 "nbformat_minor": 5
}
