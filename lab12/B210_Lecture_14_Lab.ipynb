{
 "cells": [
  {
   "cell_type": "markdown",
   "id": "f49d7fe2",
   "metadata": {},
   "source": [
    "#### For each lesson, there will be a corresponding lab to complete during the Thursday portion of class. To complete the lab, simply follow the cells step-by-step, adding your code where appropriate. Be sure to run your code to ensure correctness and completeness without errors. \n",
    "\n",
    "# Lecture 14 Lab\n",
    "In this lab, we'll review working with files in python.\n",
    "\n",
    "## Prompt\n",
    "Use your knowledge of Python variables and functions to address each of the following prompts."
   ]
  },
  {
   "cell_type": "markdown",
   "id": "8e7dc46a",
   "metadata": {},
   "source": "#### 1. Create a new file, named \"Course Registration.csv\""
  },
  {
   "cell_type": "code",
   "id": "807702ec",
   "metadata": {
    "ExecuteTime": {
     "end_time": "2024-04-19T02:03:16.464517Z",
     "start_time": "2024-04-19T02:03:16.459017Z"
    }
   },
   "source": "open(\"Course Registration.csv\", \"w\")",
   "outputs": [
    {
     "data": {
      "text/plain": [
       "<_io.TextIOWrapper name='Course Registration.csv' mode='w' encoding='cp1252'>"
      ]
     },
     "execution_count": 21,
     "metadata": {},
     "output_type": "execute_result"
    }
   ],
   "execution_count": 21
  },
  {
   "cell_type": "markdown",
   "id": "21c358e7",
   "metadata": {},
   "source": [
    "#### 2. In this file, we would like the first row to be the following:\n",
    "\n",
    "             \"Course Title,Course Subject,Credit Hours,Scheduled (Y/N)\\n\"\n",
    "\n",
    "#### Write the Python to add this to the file."
   ]
  },
  {
   "cell_type": "code",
   "id": "0ac7f895",
   "metadata": {
    "ExecuteTime": {
     "end_time": "2024-04-19T02:03:17.770802Z",
     "start_time": "2024-04-19T02:03:17.766303Z"
    }
   },
   "source": [
    "with open(\"Course Registration.csv\", \"a\") as f:\n",
    "    f.write(\"Course Title, Course Subject, Credit Hours, Scheduled (Y/N)\\n\")"
   ],
   "outputs": [],
   "execution_count": 22
  },
  {
   "cell_type": "markdown",
   "id": "86f7f55a",
   "metadata": {},
   "source": [
    "#### 3. Next, we would like to add the following data in the list below to the file, with each value as a new line.\n",
    "\n",
    "#### Write the code to add the list below to the file.\n",
    "\n",
    "\n"
   ]
  },
  {
   "cell_type": "code",
   "id": "2c099ded",
   "metadata": {
    "ExecuteTime": {
     "end_time": "2024-04-19T02:03:42.368804Z",
     "start_time": "2024-04-19T02:03:42.364304Z"
    }
   },
   "source": [
    "####defining the list\n",
    "new_lines = [\n",
    "\"Introduction to Psychology,Psychology,3,Y,\\n\",\n",
    "\"English Literature,English,4,Y,\\n\",\n",
    "\"Calculus I,Mathematics,4,Y,\\n\",\n",
    "\"Biology: Introduction to Genetics,Biology,3,Y,\\n\",\n",
    "\"History of Art,Art History,3,Y,\\n\",\n",
    "\"Organic Chemistry Lab,Chemistry,2,N,\\n\",\n",
    "\"Computer Science Fundamentals,Computer Science,4,Y,\\n\",\n",
    "\"Spanish Conversation,Spanish,2,Y,\\n\",\n",
    "\"Microeconomics,Economics,3,Y,\\n\",\n",
    "\"Physical Education,Physical Education,1,N,\\n\",\n",
    "\"Developmental Psychology,Psychology,3,N,\\n\",\n",
    "\"Shakespearean Studies,English,3,N,\\n\",\n",
    "\"Statistics,Mathematics,4,N,\\n\",\n",
    "\"Biochemistry,Biology,3,Y,\\n\",\n",
    "\"Cell Biology,Biology,3,N,\\n\"\n",
    "\"Inorganic Chemistry Lab,Chemistry,2,N,\\n\",\n",
    "\"Genetics and Society,Biology,2,N,\\n\",\n",
    "\"Ecology and Environmental Science,Biology,4,N,\\n\",\n",
    "\"Evolutionary Biology,Biology,3,N,\\n\",\n",
    "\"Marine Biology,Biology,3,N\\n\"\n",
    "]"
   ],
   "outputs": [],
   "execution_count": 23
  },
  {
   "cell_type": "code",
   "id": "f23b1c05",
   "metadata": {
    "ExecuteTime": {
     "end_time": "2024-04-19T02:03:44.046305Z",
     "start_time": "2024-04-19T02:03:44.040804Z"
    }
   },
   "source": [
    "#write your code below\n",
    "with open(\"Course Registration.csv\", \"a\") as f:\n",
    "    f.writelines(new_lines)\n",
    "    "
   ],
   "outputs": [],
   "execution_count": 24
  },
  {
   "cell_type": "markdown",
   "id": "21f08652",
   "metadata": {},
   "source": [
    "#### 4. Save and close the file."
   ]
  },
  {
   "cell_type": "code",
   "id": "7fbfc03c",
   "metadata": {
    "ExecuteTime": {
     "end_time": "2024-04-19T02:03:45.863305Z",
     "start_time": "2024-04-19T02:03:45.859304Z"
    }
   },
   "source": [
    "with open(\"Course Registration.csv\", \"r\") as f:\n",
    "    f.close()"
   ],
   "outputs": [],
   "execution_count": 25
  },
  {
   "cell_type": "markdown",
   "id": "71963295",
   "metadata": {},
   "source": [
    "#### 5. Load your saved file, and print it to make sure that everything saved!"
   ]
  },
  {
   "cell_type": "code",
   "id": "a6389318",
   "metadata": {
    "ExecuteTime": {
     "end_time": "2024-04-19T02:03:48.978303Z",
     "start_time": "2024-04-19T02:03:48.973803Z"
    }
   },
   "source": [
    "with open(\"Course Registration.csv\", \"r\") as f:\n",
    "    print(f.read())"
   ],
   "outputs": [
    {
     "name": "stdout",
     "output_type": "stream",
     "text": [
      "Course Title, Course Subject, Credit Hours, Scheduled (Y/N)\n",
      "Introduction to Psychology,Psychology,3,Y,\n",
      "English Literature,English,4,Y,\n",
      "Calculus I,Mathematics,4,Y,\n",
      "Biology: Introduction to Genetics,Biology,3,Y,\n",
      "History of Art,Art History,3,Y,\n",
      "Organic Chemistry Lab,Chemistry,2,N,\n",
      "Computer Science Fundamentals,Computer Science,4,Y,\n",
      "Spanish Conversation,Spanish,2,Y,\n",
      "Microeconomics,Economics,3,Y,\n",
      "Physical Education,Physical Education,1,N,\n",
      "Developmental Psychology,Psychology,3,N,\n",
      "Shakespearean Studies,English,3,N,\n",
      "Statistics,Mathematics,4,N,\n",
      "Biochemistry,Biology,3,Y,\n",
      "Cell Biology,Biology,3,N,\n",
      "Inorganic Chemistry Lab,Chemistry,2,N,\n",
      "Genetics and Society,Biology,2,N,\n",
      "Ecology and Environmental Science,Biology,4,N,\n",
      "Evolutionary Biology,Biology,3,N,\n",
      "Marine Biology,Biology,3,N\n",
      "\n"
     ]
    }
   ],
   "execution_count": 26
  },
  {
   "cell_type": "markdown",
   "id": "8a1ce335",
   "metadata": {},
   "source": [
    "#### 6. Count the number of rows in your CSV (1 row == 1 line), NOT including the header row."
   ]
  },
  {
   "cell_type": "code",
   "id": "24f80b68",
   "metadata": {
    "ExecuteTime": {
     "end_time": "2024-04-19T02:03:51.751334Z",
     "start_time": "2024-04-19T02:03:51.746833Z"
    }
   },
   "source": [
    "with open(\"Course Registration.csv\", \"r\") as f:\n",
    "    print(len(f.readlines()) - 1)"
   ],
   "outputs": [
    {
     "name": "stdout",
     "output_type": "stream",
     "text": [
      "20\n"
     ]
    }
   ],
   "execution_count": 27
  },
  {
   "cell_type": "markdown",
   "id": "b0e76d45",
   "metadata": {},
   "source": [
    "#### 7. We want to take a closer look at the courses the student is actually taking.\n",
    "\n",
    "#### Extract the lines from the file, to a list, where the value in the scheduled column is \"Y\".\n",
    "\n",
    "#### It also may be helpful to review the output type of readlines() and list methods to move the relevant values from readlines() to a second list.\n",
    "\n",
    "#### Recall the use of split() in string manipulation to be able to access just the Y/N value of each string in the list. Additionally, you may need to use a for loop."
   ]
  },
  {
   "cell_type": "code",
   "id": "af3c7db1",
   "metadata": {
    "ExecuteTime": {
     "end_time": "2024-04-19T02:04:08.732305Z",
     "start_time": "2024-04-19T02:04:08.726805Z"
    }
   },
   "source": [
    "with open('Course Registration.csv', 'r') as file:\n",
    "    lines = file.readlines()\n",
    "\n",
    "scheduled_courses = [line for line in lines if line.split(',')[3].strip() == \"Y\"]\n",
    "print(scheduled_courses)\n"
   ],
   "outputs": [
    {
     "name": "stdout",
     "output_type": "stream",
     "text": [
      "['Introduction to Psychology,Psychology,3,Y,\\n', 'English Literature,English,4,Y,\\n', 'Calculus I,Mathematics,4,Y,\\n', 'Biology: Introduction to Genetics,Biology,3,Y,\\n', 'History of Art,Art History,3,Y,\\n', 'Computer Science Fundamentals,Computer Science,4,Y,\\n', 'Spanish Conversation,Spanish,2,Y,\\n', 'Microeconomics,Economics,3,Y,\\n', 'Biochemistry,Biology,3,Y,\\n']\n"
     ]
    }
   ],
   "execution_count": 28
  },
  {
   "cell_type": "markdown",
   "id": "0c02c4f1",
   "metadata": {},
   "source": [
    "#### 8. Using the extracted data from the last question, determine the number of credit hours the student is taking, and print it to the terminal. \n",
    "\n",
    "#### The credit hours are found in the third comma seperated value of each string.\n",
    "\n",
    "#### Recall the use of split() in string manipulation to be able to access just the second value of each string in the list. Additionally, you may need to use a for loop."
   ]
  },
  {
   "cell_type": "code",
   "id": "e9007d01",
   "metadata": {
    "ExecuteTime": {
     "end_time": "2024-04-19T02:04:12.498284Z",
     "start_time": "2024-04-19T02:04:12.493784Z"
    }
   },
   "source": [
    "total_credit_hours = sum(int(course.split(',')[2]) for course in scheduled_courses)\n",
    "\n",
    "print(total_credit_hours)"
   ],
   "outputs": [
    {
     "name": "stdout",
     "output_type": "stream",
     "text": [
      "29\n"
     ]
    }
   ],
   "execution_count": 29
  },
  {
   "cell_type": "markdown",
   "id": "f9754152",
   "metadata": {},
   "source": [
    "#### 9. A student must take at least 3 courses in their major each year to stay on track for graduation. \n",
    "\n",
    "#### Using the extracted data, determine if the student meets the requirements by counting the number of occurances of \"Biology\" in the Subject column of the rows. \n",
    "\n",
    "#### Recall the use of split() in string manipulation to be able to access just the second value of each string in the list. Additionally, you may need to use a for loop."
   ]
  },
  {
   "cell_type": "code",
   "id": "8f49bd2b",
   "metadata": {
    "ExecuteTime": {
     "end_time": "2024-04-19T02:04:14.218303Z",
     "start_time": "2024-04-19T02:04:14.213303Z"
    }
   },
   "source": [
    "threshold = 3\n",
    "biology_count = sum(1 for course in scheduled_courses if course.split(',')[1] == \"Biology\")\n",
    "print(biology_count >= threshold)"
   ],
   "outputs": [
    {
     "name": "stdout",
     "output_type": "stream",
     "text": [
      "False\n"
     ]
    }
   ],
   "execution_count": 30
  },
  {
   "cell_type": "markdown",
   "id": "c7e28f66",
   "metadata": {},
   "source": [
    "#### Does the student meet the requirements (taking 3 Biology courses)?"
   ]
  },
  {
   "cell_type": "markdown",
   "id": "b68a413c",
   "metadata": {},
   "source": "No"
  },
  {
   "cell_type": "markdown",
   "id": "cf9d25e4",
   "metadata": {},
   "source": [
    "#### 10. Seeing that the student does not meet the requirements, append your own course to the file, with the subject \"Biology\" and scheduled \"Y\".\n",
    "\n",
    "#### Recall the proper string format for our CSV : \"Course Title,Course Subject,Credit Hours,Scheduled (Y/N)\".\n"
   ]
  },
  {
   "cell_type": "code",
   "id": "4f193311",
   "metadata": {
    "ExecuteTime": {
     "end_time": "2024-04-19T02:04:17.331301Z",
     "start_time": "2024-04-19T02:04:17.327801Z"
    }
   },
   "source": [
    "with open(\"Course Registration.csv\", \"a\") as f:\n",
    "    f.write(\"Anatomy,Biology,4,Y,\\n\")"
   ],
   "outputs": [],
   "execution_count": 31
  },
  {
   "cell_type": "markdown",
   "id": "9a6abdf9",
   "metadata": {},
   "source": [
    "#### Remember to save your file at the end. When you submit the lab, please submit your code AND your text file!"
   ]
  },
  {
   "metadata": {},
   "cell_type": "code",
   "outputs": [],
   "execution_count": null,
   "source": "",
   "id": "5d24b68d555bea4b"
  }
 ],
 "metadata": {
  "kernelspec": {
   "display_name": "Python 3 (ipykernel)",
   "language": "python",
   "name": "python3"
  },
  "language_info": {
   "codemirror_mode": {
    "name": "ipython",
    "version": 3
   },
   "file_extension": ".py",
   "mimetype": "text/x-python",
   "name": "python",
   "nbconvert_exporter": "python",
   "pygments_lexer": "ipython3",
   "version": "3.9.17"
  }
 },
 "nbformat": 4,
 "nbformat_minor": 5
}
